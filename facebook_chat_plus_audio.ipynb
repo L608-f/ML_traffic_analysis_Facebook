{
  "nbformat": 4,
  "nbformat_minor": 0,
  "metadata": {
    "colab": {
      "provenance": []
    },
    "kernelspec": {
      "name": "python3",
      "display_name": "Python 3"
    },
    "language_info": {
      "name": "python"
    },
    "accelerator": "GPU",
    "gpuClass": "standard"
  },
  "cells": [
    {
      "cell_type": "code",
      "source": [
        "pip install catboost "
      ],
      "metadata": {
        "colab": {
          "base_uri": "https://localhost:8080/"
        },
        "id": "vZzd1ZIeBrF_",
        "outputId": "52bf9d98-9884-4bac-9847-1dcc597b3b34"
      },
      "execution_count": null,
      "outputs": [
        {
          "output_type": "stream",
          "name": "stdout",
          "text": [
            "Looking in indexes: https://pypi.org/simple, https://us-python.pkg.dev/colab-wheels/public/simple/\n",
            "Collecting catboost\n",
            "  Downloading catboost-1.1.1-cp37-none-manylinux1_x86_64.whl (76.6 MB)\n",
            "\u001b[K     |████████████████████████████████| 76.6 MB 1.7 MB/s \n",
            "\u001b[?25hRequirement already satisfied: scipy in /usr/local/lib/python3.7/dist-packages (from catboost) (1.7.3)\n",
            "Requirement already satisfied: graphviz in /usr/local/lib/python3.7/dist-packages (from catboost) (0.10.1)\n",
            "Requirement already satisfied: plotly in /usr/local/lib/python3.7/dist-packages (from catboost) (5.5.0)\n",
            "Requirement already satisfied: matplotlib in /usr/local/lib/python3.7/dist-packages (from catboost) (3.2.2)\n",
            "Requirement already satisfied: pandas>=0.24.0 in /usr/local/lib/python3.7/dist-packages (from catboost) (1.3.5)\n",
            "Requirement already satisfied: six in /usr/local/lib/python3.7/dist-packages (from catboost) (1.15.0)\n",
            "Requirement already satisfied: numpy>=1.16.0 in /usr/local/lib/python3.7/dist-packages (from catboost) (1.21.6)\n",
            "Requirement already satisfied: python-dateutil>=2.7.3 in /usr/local/lib/python3.7/dist-packages (from pandas>=0.24.0->catboost) (2.8.2)\n",
            "Requirement already satisfied: pytz>=2017.3 in /usr/local/lib/python3.7/dist-packages (from pandas>=0.24.0->catboost) (2022.5)\n",
            "Requirement already satisfied: cycler>=0.10 in /usr/local/lib/python3.7/dist-packages (from matplotlib->catboost) (0.11.0)\n",
            "Requirement already satisfied: kiwisolver>=1.0.1 in /usr/local/lib/python3.7/dist-packages (from matplotlib->catboost) (1.4.4)\n",
            "Requirement already satisfied: pyparsing!=2.0.4,!=2.1.2,!=2.1.6,>=2.0.1 in /usr/local/lib/python3.7/dist-packages (from matplotlib->catboost) (3.0.9)\n",
            "Requirement already satisfied: typing-extensions in /usr/local/lib/python3.7/dist-packages (from kiwisolver>=1.0.1->matplotlib->catboost) (4.1.1)\n",
            "Requirement already satisfied: tenacity>=6.2.0 in /usr/local/lib/python3.7/dist-packages (from plotly->catboost) (8.1.0)\n",
            "Installing collected packages: catboost\n",
            "Successfully installed catboost-1.1.1\n"
          ]
        }
      ]
    },
    {
      "cell_type": "code",
      "execution_count": null,
      "metadata": {
        "id": "DveQolKX_75S",
        "colab": {
          "base_uri": "https://localhost:8080/",
          "height": 206
        },
        "outputId": "de793c5a-8cbe-4b01-ae97-b45e90924f5f"
      },
      "outputs": [
        {
          "output_type": "execute_result",
          "data": {
            "text/plain": [
              "   Length  ARP  DNS  GQUIC  LLMNR  NBNS  NTP  TCP  TLSv1.2  UDP  Time_diff  \\\n",
              "0      66    0    0      0      0     0    0    1        0    0   0.042037   \n",
              "1      79    0    1      0      0     0    0    0        0    0   2.783592   \n",
              "2     415    0    1      0      0     0    0    0        0    0   0.000731   \n",
              "3      66    0    0      0      0     0    0    1        0    0   0.001056   \n",
              "4      92    0    0      0      0     1    0    0        0    0   0.000445   \n",
              "\n",
              "   Label  \n",
              "0      0  \n",
              "1      0  \n",
              "2      0  \n",
              "3      0  \n",
              "4      0  "
            ],
            "text/html": [
              "\n",
              "  <div id=\"df-a7eb7aca-0ef9-4bf3-b17c-552472bba109\">\n",
              "    <div class=\"colab-df-container\">\n",
              "      <div>\n",
              "<style scoped>\n",
              "    .dataframe tbody tr th:only-of-type {\n",
              "        vertical-align: middle;\n",
              "    }\n",
              "\n",
              "    .dataframe tbody tr th {\n",
              "        vertical-align: top;\n",
              "    }\n",
              "\n",
              "    .dataframe thead th {\n",
              "        text-align: right;\n",
              "    }\n",
              "</style>\n",
              "<table border=\"1\" class=\"dataframe\">\n",
              "  <thead>\n",
              "    <tr style=\"text-align: right;\">\n",
              "      <th></th>\n",
              "      <th>Length</th>\n",
              "      <th>ARP</th>\n",
              "      <th>DNS</th>\n",
              "      <th>GQUIC</th>\n",
              "      <th>LLMNR</th>\n",
              "      <th>NBNS</th>\n",
              "      <th>NTP</th>\n",
              "      <th>TCP</th>\n",
              "      <th>TLSv1.2</th>\n",
              "      <th>UDP</th>\n",
              "      <th>Time_diff</th>\n",
              "      <th>Label</th>\n",
              "    </tr>\n",
              "  </thead>\n",
              "  <tbody>\n",
              "    <tr>\n",
              "      <th>0</th>\n",
              "      <td>66</td>\n",
              "      <td>0</td>\n",
              "      <td>0</td>\n",
              "      <td>0</td>\n",
              "      <td>0</td>\n",
              "      <td>0</td>\n",
              "      <td>0</td>\n",
              "      <td>1</td>\n",
              "      <td>0</td>\n",
              "      <td>0</td>\n",
              "      <td>0.042037</td>\n",
              "      <td>0</td>\n",
              "    </tr>\n",
              "    <tr>\n",
              "      <th>1</th>\n",
              "      <td>79</td>\n",
              "      <td>0</td>\n",
              "      <td>1</td>\n",
              "      <td>0</td>\n",
              "      <td>0</td>\n",
              "      <td>0</td>\n",
              "      <td>0</td>\n",
              "      <td>0</td>\n",
              "      <td>0</td>\n",
              "      <td>0</td>\n",
              "      <td>2.783592</td>\n",
              "      <td>0</td>\n",
              "    </tr>\n",
              "    <tr>\n",
              "      <th>2</th>\n",
              "      <td>415</td>\n",
              "      <td>0</td>\n",
              "      <td>1</td>\n",
              "      <td>0</td>\n",
              "      <td>0</td>\n",
              "      <td>0</td>\n",
              "      <td>0</td>\n",
              "      <td>0</td>\n",
              "      <td>0</td>\n",
              "      <td>0</td>\n",
              "      <td>0.000731</td>\n",
              "      <td>0</td>\n",
              "    </tr>\n",
              "    <tr>\n",
              "      <th>3</th>\n",
              "      <td>66</td>\n",
              "      <td>0</td>\n",
              "      <td>0</td>\n",
              "      <td>0</td>\n",
              "      <td>0</td>\n",
              "      <td>0</td>\n",
              "      <td>0</td>\n",
              "      <td>1</td>\n",
              "      <td>0</td>\n",
              "      <td>0</td>\n",
              "      <td>0.001056</td>\n",
              "      <td>0</td>\n",
              "    </tr>\n",
              "    <tr>\n",
              "      <th>4</th>\n",
              "      <td>92</td>\n",
              "      <td>0</td>\n",
              "      <td>0</td>\n",
              "      <td>0</td>\n",
              "      <td>0</td>\n",
              "      <td>1</td>\n",
              "      <td>0</td>\n",
              "      <td>0</td>\n",
              "      <td>0</td>\n",
              "      <td>0</td>\n",
              "      <td>0.000445</td>\n",
              "      <td>0</td>\n",
              "    </tr>\n",
              "  </tbody>\n",
              "</table>\n",
              "</div>\n",
              "      <button class=\"colab-df-convert\" onclick=\"convertToInteractive('df-a7eb7aca-0ef9-4bf3-b17c-552472bba109')\"\n",
              "              title=\"Convert this dataframe to an interactive table.\"\n",
              "              style=\"display:none;\">\n",
              "        \n",
              "  <svg xmlns=\"http://www.w3.org/2000/svg\" height=\"24px\"viewBox=\"0 0 24 24\"\n",
              "       width=\"24px\">\n",
              "    <path d=\"M0 0h24v24H0V0z\" fill=\"none\"/>\n",
              "    <path d=\"M18.56 5.44l.94 2.06.94-2.06 2.06-.94-2.06-.94-.94-2.06-.94 2.06-2.06.94zm-11 1L8.5 8.5l.94-2.06 2.06-.94-2.06-.94L8.5 2.5l-.94 2.06-2.06.94zm10 10l.94 2.06.94-2.06 2.06-.94-2.06-.94-.94-2.06-.94 2.06-2.06.94z\"/><path d=\"M17.41 7.96l-1.37-1.37c-.4-.4-.92-.59-1.43-.59-.52 0-1.04.2-1.43.59L10.3 9.45l-7.72 7.72c-.78.78-.78 2.05 0 2.83L4 21.41c.39.39.9.59 1.41.59.51 0 1.02-.2 1.41-.59l7.78-7.78 2.81-2.81c.8-.78.8-2.07 0-2.86zM5.41 20L4 18.59l7.72-7.72 1.47 1.35L5.41 20z\"/>\n",
              "  </svg>\n",
              "      </button>\n",
              "      \n",
              "  <style>\n",
              "    .colab-df-container {\n",
              "      display:flex;\n",
              "      flex-wrap:wrap;\n",
              "      gap: 12px;\n",
              "    }\n",
              "\n",
              "    .colab-df-convert {\n",
              "      background-color: #E8F0FE;\n",
              "      border: none;\n",
              "      border-radius: 50%;\n",
              "      cursor: pointer;\n",
              "      display: none;\n",
              "      fill: #1967D2;\n",
              "      height: 32px;\n",
              "      padding: 0 0 0 0;\n",
              "      width: 32px;\n",
              "    }\n",
              "\n",
              "    .colab-df-convert:hover {\n",
              "      background-color: #E2EBFA;\n",
              "      box-shadow: 0px 1px 2px rgba(60, 64, 67, 0.3), 0px 1px 3px 1px rgba(60, 64, 67, 0.15);\n",
              "      fill: #174EA6;\n",
              "    }\n",
              "\n",
              "    [theme=dark] .colab-df-convert {\n",
              "      background-color: #3B4455;\n",
              "      fill: #D2E3FC;\n",
              "    }\n",
              "\n",
              "    [theme=dark] .colab-df-convert:hover {\n",
              "      background-color: #434B5C;\n",
              "      box-shadow: 0px 1px 3px 1px rgba(0, 0, 0, 0.15);\n",
              "      filter: drop-shadow(0px 1px 2px rgba(0, 0, 0, 0.3));\n",
              "      fill: #FFFFFF;\n",
              "    }\n",
              "  </style>\n",
              "\n",
              "      <script>\n",
              "        const buttonEl =\n",
              "          document.querySelector('#df-a7eb7aca-0ef9-4bf3-b17c-552472bba109 button.colab-df-convert');\n",
              "        buttonEl.style.display =\n",
              "          google.colab.kernel.accessAllowed ? 'block' : 'none';\n",
              "\n",
              "        async function convertToInteractive(key) {\n",
              "          const element = document.querySelector('#df-a7eb7aca-0ef9-4bf3-b17c-552472bba109');\n",
              "          const dataTable =\n",
              "            await google.colab.kernel.invokeFunction('convertToInteractive',\n",
              "                                                     [key], {});\n",
              "          if (!dataTable) return;\n",
              "\n",
              "          const docLinkHtml = 'Like what you see? Visit the ' +\n",
              "            '<a target=\"_blank\" href=https://colab.research.google.com/notebooks/data_table.ipynb>data table notebook</a>'\n",
              "            + ' to learn more about interactive tables.';\n",
              "          element.innerHTML = '';\n",
              "          dataTable['output_type'] = 'display_data';\n",
              "          await google.colab.output.renderOutput(dataTable, element);\n",
              "          const docLink = document.createElement('div');\n",
              "          docLink.innerHTML = docLinkHtml;\n",
              "          element.appendChild(docLink);\n",
              "        }\n",
              "      </script>\n",
              "    </div>\n",
              "  </div>\n",
              "  "
            ]
          },
          "metadata": {},
          "execution_count": 14
        }
      ],
      "source": [
        "import pandas as pd \n",
        "\n",
        "data = pd.read_csv('facebook_chat_4a.csv', sep = ',')\n",
        "\n",
        "facebook_chat = data[['Time', 'Protocol', 'Length']]\n",
        "facebook_chat = facebook_chat.join(pd.get_dummies(facebook_chat.Protocol)).drop(['Protocol'], axis = 1)\n",
        "\n",
        "facebook_chat['Time_diff'] = facebook_chat['Time'].diff(1)\n",
        "facebook_chat = facebook_chat.iloc[1:].reset_index(drop = True)\n",
        "facebook_chat = facebook_chat.drop(['Time'], axis = 1)\n",
        "\n",
        "facebook_chat['Label'] = 0\n",
        "facebook_chat.head()"
      ]
    },
    {
      "cell_type": "code",
      "source": [
        "data = pd.read_csv('facebook_audio.csv', sep = ',')\n",
        "\n",
        "facebook_audio = data[['Time', 'Protocol', 'Length']]\n",
        "facebook_audio = facebook_audio.join(pd.get_dummies(facebook_audio.Protocol)).drop(['Protocol'], axis = 1)\n",
        "\n",
        "facebook_audio['Time_diff'] = facebook_audio['Time'].diff(1)\n",
        "facebook_audio = facebook_audio.iloc[1:].reset_index(drop = True)\n",
        "facebook_audio = facebook_audio.drop(['Time'], axis = 1)\n",
        "\n",
        "facebook_audio['Label'] = 1\n",
        "facebook_audio.head()"
      ],
      "metadata": {
        "id": "HDDA--rMArI1",
        "colab": {
          "base_uri": "https://localhost:8080/",
          "height": 279
        },
        "outputId": "50e447dd-e5d5-4e1d-8c22-b99cc4462833"
      },
      "execution_count": null,
      "outputs": [
        {
          "output_type": "execute_result",
          "data": {
            "text/plain": [
              "   Length  ARP  BROWSER  DNS  DTLSv1.0  GQUIC  ICMP  IGMPv3  LANMAN  NBNS  \\\n",
              "0      76    0        0    1         0      0     0       0       0     0   \n",
              "1      76    0        0    1         0      0     0       0       0     0   \n",
              "2      76    0        0    1         0      0     0       0       0     0   \n",
              "3    1077    0        0    0         0      0     0       0       0     0   \n",
              "4     583    0        0    0         0      0     0       0       0     0   \n",
              "\n",
              "   ...  SMB2  SSDP  SSL  STUN  TCP  TLSv1  TLSv1.2  UDP  Time_diff  Label  \n",
              "0  ...     0     0    0     0    0      0        0    0   0.000018      1  \n",
              "1  ...     0     0    0     0    0      0        0    0   0.000004      1  \n",
              "2  ...     0     0    0     0    0      0        0    0   0.000013      1  \n",
              "3  ...     0     0    0     0    0      0        1    0   0.000003      1  \n",
              "4  ...     0     0    0     0    0      0        1    0   0.000030      1  \n",
              "\n",
              "[5 rows x 23 columns]"
            ],
            "text/html": [
              "\n",
              "  <div id=\"df-bf1e693e-eaa8-4f20-82f9-f9533b1903d4\">\n",
              "    <div class=\"colab-df-container\">\n",
              "      <div>\n",
              "<style scoped>\n",
              "    .dataframe tbody tr th:only-of-type {\n",
              "        vertical-align: middle;\n",
              "    }\n",
              "\n",
              "    .dataframe tbody tr th {\n",
              "        vertical-align: top;\n",
              "    }\n",
              "\n",
              "    .dataframe thead th {\n",
              "        text-align: right;\n",
              "    }\n",
              "</style>\n",
              "<table border=\"1\" class=\"dataframe\">\n",
              "  <thead>\n",
              "    <tr style=\"text-align: right;\">\n",
              "      <th></th>\n",
              "      <th>Length</th>\n",
              "      <th>ARP</th>\n",
              "      <th>BROWSER</th>\n",
              "      <th>DNS</th>\n",
              "      <th>DTLSv1.0</th>\n",
              "      <th>GQUIC</th>\n",
              "      <th>ICMP</th>\n",
              "      <th>IGMPv3</th>\n",
              "      <th>LANMAN</th>\n",
              "      <th>NBNS</th>\n",
              "      <th>...</th>\n",
              "      <th>SMB2</th>\n",
              "      <th>SSDP</th>\n",
              "      <th>SSL</th>\n",
              "      <th>STUN</th>\n",
              "      <th>TCP</th>\n",
              "      <th>TLSv1</th>\n",
              "      <th>TLSv1.2</th>\n",
              "      <th>UDP</th>\n",
              "      <th>Time_diff</th>\n",
              "      <th>Label</th>\n",
              "    </tr>\n",
              "  </thead>\n",
              "  <tbody>\n",
              "    <tr>\n",
              "      <th>0</th>\n",
              "      <td>76</td>\n",
              "      <td>0</td>\n",
              "      <td>0</td>\n",
              "      <td>1</td>\n",
              "      <td>0</td>\n",
              "      <td>0</td>\n",
              "      <td>0</td>\n",
              "      <td>0</td>\n",
              "      <td>0</td>\n",
              "      <td>0</td>\n",
              "      <td>...</td>\n",
              "      <td>0</td>\n",
              "      <td>0</td>\n",
              "      <td>0</td>\n",
              "      <td>0</td>\n",
              "      <td>0</td>\n",
              "      <td>0</td>\n",
              "      <td>0</td>\n",
              "      <td>0</td>\n",
              "      <td>0.000018</td>\n",
              "      <td>1</td>\n",
              "    </tr>\n",
              "    <tr>\n",
              "      <th>1</th>\n",
              "      <td>76</td>\n",
              "      <td>0</td>\n",
              "      <td>0</td>\n",
              "      <td>1</td>\n",
              "      <td>0</td>\n",
              "      <td>0</td>\n",
              "      <td>0</td>\n",
              "      <td>0</td>\n",
              "      <td>0</td>\n",
              "      <td>0</td>\n",
              "      <td>...</td>\n",
              "      <td>0</td>\n",
              "      <td>0</td>\n",
              "      <td>0</td>\n",
              "      <td>0</td>\n",
              "      <td>0</td>\n",
              "      <td>0</td>\n",
              "      <td>0</td>\n",
              "      <td>0</td>\n",
              "      <td>0.000004</td>\n",
              "      <td>1</td>\n",
              "    </tr>\n",
              "    <tr>\n",
              "      <th>2</th>\n",
              "      <td>76</td>\n",
              "      <td>0</td>\n",
              "      <td>0</td>\n",
              "      <td>1</td>\n",
              "      <td>0</td>\n",
              "      <td>0</td>\n",
              "      <td>0</td>\n",
              "      <td>0</td>\n",
              "      <td>0</td>\n",
              "      <td>0</td>\n",
              "      <td>...</td>\n",
              "      <td>0</td>\n",
              "      <td>0</td>\n",
              "      <td>0</td>\n",
              "      <td>0</td>\n",
              "      <td>0</td>\n",
              "      <td>0</td>\n",
              "      <td>0</td>\n",
              "      <td>0</td>\n",
              "      <td>0.000013</td>\n",
              "      <td>1</td>\n",
              "    </tr>\n",
              "    <tr>\n",
              "      <th>3</th>\n",
              "      <td>1077</td>\n",
              "      <td>0</td>\n",
              "      <td>0</td>\n",
              "      <td>0</td>\n",
              "      <td>0</td>\n",
              "      <td>0</td>\n",
              "      <td>0</td>\n",
              "      <td>0</td>\n",
              "      <td>0</td>\n",
              "      <td>0</td>\n",
              "      <td>...</td>\n",
              "      <td>0</td>\n",
              "      <td>0</td>\n",
              "      <td>0</td>\n",
              "      <td>0</td>\n",
              "      <td>0</td>\n",
              "      <td>0</td>\n",
              "      <td>1</td>\n",
              "      <td>0</td>\n",
              "      <td>0.000003</td>\n",
              "      <td>1</td>\n",
              "    </tr>\n",
              "    <tr>\n",
              "      <th>4</th>\n",
              "      <td>583</td>\n",
              "      <td>0</td>\n",
              "      <td>0</td>\n",
              "      <td>0</td>\n",
              "      <td>0</td>\n",
              "      <td>0</td>\n",
              "      <td>0</td>\n",
              "      <td>0</td>\n",
              "      <td>0</td>\n",
              "      <td>0</td>\n",
              "      <td>...</td>\n",
              "      <td>0</td>\n",
              "      <td>0</td>\n",
              "      <td>0</td>\n",
              "      <td>0</td>\n",
              "      <td>0</td>\n",
              "      <td>0</td>\n",
              "      <td>1</td>\n",
              "      <td>0</td>\n",
              "      <td>0.000030</td>\n",
              "      <td>1</td>\n",
              "    </tr>\n",
              "  </tbody>\n",
              "</table>\n",
              "<p>5 rows × 23 columns</p>\n",
              "</div>\n",
              "      <button class=\"colab-df-convert\" onclick=\"convertToInteractive('df-bf1e693e-eaa8-4f20-82f9-f9533b1903d4')\"\n",
              "              title=\"Convert this dataframe to an interactive table.\"\n",
              "              style=\"display:none;\">\n",
              "        \n",
              "  <svg xmlns=\"http://www.w3.org/2000/svg\" height=\"24px\"viewBox=\"0 0 24 24\"\n",
              "       width=\"24px\">\n",
              "    <path d=\"M0 0h24v24H0V0z\" fill=\"none\"/>\n",
              "    <path d=\"M18.56 5.44l.94 2.06.94-2.06 2.06-.94-2.06-.94-.94-2.06-.94 2.06-2.06.94zm-11 1L8.5 8.5l.94-2.06 2.06-.94-2.06-.94L8.5 2.5l-.94 2.06-2.06.94zm10 10l.94 2.06.94-2.06 2.06-.94-2.06-.94-.94-2.06-.94 2.06-2.06.94z\"/><path d=\"M17.41 7.96l-1.37-1.37c-.4-.4-.92-.59-1.43-.59-.52 0-1.04.2-1.43.59L10.3 9.45l-7.72 7.72c-.78.78-.78 2.05 0 2.83L4 21.41c.39.39.9.59 1.41.59.51 0 1.02-.2 1.41-.59l7.78-7.78 2.81-2.81c.8-.78.8-2.07 0-2.86zM5.41 20L4 18.59l7.72-7.72 1.47 1.35L5.41 20z\"/>\n",
              "  </svg>\n",
              "      </button>\n",
              "      \n",
              "  <style>\n",
              "    .colab-df-container {\n",
              "      display:flex;\n",
              "      flex-wrap:wrap;\n",
              "      gap: 12px;\n",
              "    }\n",
              "\n",
              "    .colab-df-convert {\n",
              "      background-color: #E8F0FE;\n",
              "      border: none;\n",
              "      border-radius: 50%;\n",
              "      cursor: pointer;\n",
              "      display: none;\n",
              "      fill: #1967D2;\n",
              "      height: 32px;\n",
              "      padding: 0 0 0 0;\n",
              "      width: 32px;\n",
              "    }\n",
              "\n",
              "    .colab-df-convert:hover {\n",
              "      background-color: #E2EBFA;\n",
              "      box-shadow: 0px 1px 2px rgba(60, 64, 67, 0.3), 0px 1px 3px 1px rgba(60, 64, 67, 0.15);\n",
              "      fill: #174EA6;\n",
              "    }\n",
              "\n",
              "    [theme=dark] .colab-df-convert {\n",
              "      background-color: #3B4455;\n",
              "      fill: #D2E3FC;\n",
              "    }\n",
              "\n",
              "    [theme=dark] .colab-df-convert:hover {\n",
              "      background-color: #434B5C;\n",
              "      box-shadow: 0px 1px 3px 1px rgba(0, 0, 0, 0.15);\n",
              "      filter: drop-shadow(0px 1px 2px rgba(0, 0, 0, 0.3));\n",
              "      fill: #FFFFFF;\n",
              "    }\n",
              "  </style>\n",
              "\n",
              "      <script>\n",
              "        const buttonEl =\n",
              "          document.querySelector('#df-bf1e693e-eaa8-4f20-82f9-f9533b1903d4 button.colab-df-convert');\n",
              "        buttonEl.style.display =\n",
              "          google.colab.kernel.accessAllowed ? 'block' : 'none';\n",
              "\n",
              "        async function convertToInteractive(key) {\n",
              "          const element = document.querySelector('#df-bf1e693e-eaa8-4f20-82f9-f9533b1903d4');\n",
              "          const dataTable =\n",
              "            await google.colab.kernel.invokeFunction('convertToInteractive',\n",
              "                                                     [key], {});\n",
              "          if (!dataTable) return;\n",
              "\n",
              "          const docLinkHtml = 'Like what you see? Visit the ' +\n",
              "            '<a target=\"_blank\" href=https://colab.research.google.com/notebooks/data_table.ipynb>data table notebook</a>'\n",
              "            + ' to learn more about interactive tables.';\n",
              "          element.innerHTML = '';\n",
              "          dataTable['output_type'] = 'display_data';\n",
              "          await google.colab.output.renderOutput(dataTable, element);\n",
              "          const docLink = document.createElement('div');\n",
              "          docLink.innerHTML = docLinkHtml;\n",
              "          element.appendChild(docLink);\n",
              "        }\n",
              "      </script>\n",
              "    </div>\n",
              "  </div>\n",
              "  "
            ]
          },
          "metadata": {},
          "execution_count": 15
        }
      ]
    },
    {
      "cell_type": "code",
      "source": [
        "# соединяем данные, чтобы добавить недостающие столбцы \n",
        "\n",
        "facebook = pd.concat([facebook_chat, facebook_audio], axis = 0).reset_index(drop = True)\n",
        "facebook = facebook.fillna(0)\n",
        "facebook.to_csv('Facebook.csv', index = False)\n",
        "# 2191"
      ],
      "metadata": {
        "id": "2QduU5tzO-OE"
      },
      "execution_count": null,
      "outputs": []
    },
    {
      "cell_type": "code",
      "source": [
        "# разбиваем данные обратно \n",
        "\n",
        "facebook_chat = facebook[:2191]\n",
        "facebook_audio = facebook[2191:]"
      ],
      "metadata": {
        "id": "d2nfE4IRRDw1"
      },
      "execution_count": null,
      "outputs": []
    },
    {
      "cell_type": "code",
      "source": [
        "facebook_chat_answer = facebook_chat['Label']\n",
        "facebook_chat = facebook_chat.drop(['Label'], axis = 1)\n",
        "\n",
        "facebook_audio_answer = facebook_audio['Label']\n",
        "facebook_audio = facebook_audio.drop(['Label'], axis = 1)"
      ],
      "metadata": {
        "id": "Ba2FVKUsSN7M"
      },
      "execution_count": null,
      "outputs": []
    },
    {
      "cell_type": "code",
      "source": [
        "from sklearn.model_selection import train_test_split\n",
        "\n",
        "x_train, x_test, y_train, y_test = train_test_split(facebook_audio, facebook_audio_answer, test_size = 0.4, random_state = 0)\n",
        "\n",
        "x_train = pd.concat([x_train, facebook_chat], axis = 0).reset_index(drop = True)\n",
        "x_test = pd.concat([x_test[:len(facebook_chat_answer)], facebook_chat], axis = 0).reset_index(drop = True)\n",
        "\n",
        "y_train = pd.concat([y_train, facebook_chat_answer], axis = 0).reset_index(drop = True)\n",
        "y_test = pd.concat([y_test[:len(facebook_chat_answer)], facebook_chat_answer], axis = 0).reset_index(drop = True)\n",
        "\n",
        "# перемешиваем тестовые данные \n",
        "mass = x_test.join(y_test)\n",
        "mass_sample = mass.sample(frac = 1)\n",
        "\n",
        "y_test = mass_sample['Label']\n",
        "x_test = mass_sample.drop(['Label'], axis = 1)"
      ],
      "metadata": {
        "id": "pMf35KxyTFWb"
      },
      "execution_count": null,
      "outputs": []
    },
    {
      "cell_type": "code",
      "source": [
        "from sklearn.neighbors import KNeighborsClassifier\n",
        "from sklearn.metrics import accuracy_score \n",
        "from sklearn.metrics import mean_absolute_error, mean_squared_error\n",
        "\n",
        "for neighbor in range(1, 11):\n",
        "  knn = KNeighborsClassifier(n_neighbors = neighbor)\n",
        "  knn.fit(x_train, y_train)\n",
        "\n",
        "  knn_predict = knn.predict(x_test)\n",
        "\n",
        "  mae = mean_absolute_error(y_test, knn_predict)\n",
        "  mse = mean_squared_error(y_test, knn_predict)\n",
        "  rmse = mean_squared_error(y_test, knn_predict, squared = False)\n",
        "\n",
        "  print(neighbor, 'neighbors --> ', accuracy_score(knn_predict, y_test))\n",
        "  print('       MAE', mae)\n",
        "  print('       MSE', mse)\n",
        "  print('       RMSE', rmse)"
      ],
      "metadata": {
        "colab": {
          "base_uri": "https://localhost:8080/"
        },
        "id": "fc6MFcoLqloQ",
        "outputId": "5e4dc98d-d701-4187-f5af-5f5feabe1c64"
      },
      "execution_count": null,
      "outputs": [
        {
          "output_type": "stream",
          "name": "stdout",
          "text": [
            "1 neighbors -->  0.9883614787768142\n",
            "       MAE 0.01163852122318576\n",
            "       MSE 0.01163852122318576\n",
            "       RMSE 0.10788197821316478\n",
            "2 neighbors -->  0.9922409858512095\n",
            "       MAE 0.007759014148790507\n",
            "       MSE 0.007759014148790507\n",
            "       RMSE 0.08808526635476847\n",
            "3 neighbors -->  0.9776357827476039\n",
            "       MAE 0.022364217252396165\n",
            "       MSE 0.022364217252396165\n",
            "       RMSE 0.1495467059229195\n",
            "4 neighbors -->  0.9865358283888636\n",
            "       MAE 0.013464171611136467\n",
            "       MSE 0.013464171611136467\n",
            "       RMSE 0.1160352171159104\n",
            "5 neighbors -->  0.9760383386581469\n",
            "       MAE 0.023961661341853034\n",
            "       MSE 0.023961661341853034\n",
            "       RMSE 0.154795546905759\n",
            "6 neighbors -->  0.978776814240073\n",
            "       MAE 0.021223185759926974\n",
            "       MSE 0.021223185759926974\n",
            "       RMSE 0.14568179625446337\n",
            "7 neighbors -->  0.9712460063897763\n",
            "       MAE 0.02875399361022364\n",
            "       MSE 0.02875399361022364\n",
            "       RMSE 0.16957002568326643\n",
            "8 neighbors -->  0.9744408945686901\n",
            "       MAE 0.025559105431309903\n",
            "       MSE 0.025559105431309903\n",
            "       RMSE 0.1598721533954863\n",
            "9 neighbors -->  0.9721588315837517\n",
            "       MAE 0.02784116841624829\n",
            "       MSE 0.02784116841624829\n",
            "       RMSE 0.1668567302096271\n",
            "10 neighbors -->  0.974669100867184\n",
            "       MAE 0.025330899132816064\n",
            "       MSE 0.025330899132816064\n",
            "       RMSE 0.15915683815914433\n"
          ]
        }
      ]
    },
    {
      "cell_type": "markdown",
      "source": [
        "НАИВНЫЙ БАЙЕСОВСКИЙ КЛАССИФИКАТОР *\n",
        "\n",
        "\n",
        "\n",
        "\n",
        "\n",
        "\n",
        "\n"
      ],
      "metadata": {
        "id": "LcJFneGduLHU"
      }
    },
    {
      "cell_type": "code",
      "source": [
        "from sklearn.naive_bayes import GaussianNB \n",
        "from sklearn.metrics import accuracy_score \n",
        "\n",
        "gnb = GaussianNB()\n",
        "gnb_predict = gnb.fit(x_train, y_train).predict(x_test)\n",
        "\n",
        "accuracy_score(gnb_predict, y_test)"
      ],
      "metadata": {
        "colab": {
          "base_uri": "https://localhost:8080/"
        },
        "id": "4UZyy2dURpA-",
        "outputId": "911686f3-e28d-4410-cb90-b3639cba2d67"
      },
      "execution_count": null,
      "outputs": [
        {
          "output_type": "execute_result",
          "data": {
            "text/plain": [
              "0.9879050661798265"
            ]
          },
          "metadata": {},
          "execution_count": 9
        }
      ]
    },
    {
      "cell_type": "code",
      "source": [
        "# оценка точности и полноты \n",
        "\n",
        "tp = 0  # истино-положительное рещение \n",
        "tn = 0  # истино-отрицательное решение \n",
        "fp = 0  # ложно-положительное решение \n",
        "fn = 0  # ложно-отрицательное решение \n",
        "\n",
        "for i in range(len(y_test)): \n",
        "  if knn_predict[i] == y_test[i]:\n",
        "    if y_test[i] == 1: tp += 1\n",
        "    else: tn += 1 \n",
        "  else: \n",
        "    if y_test[i] == 0 and knn_predict[i] == 1: fp += 1\n",
        "    else: fn += 1\n",
        "\n",
        "print('для knn_predict')\n",
        "print('точность', tp / (tp + fp))\n",
        "print('полнота', tp / (tp + fn))\n",
        "\n",
        "\n",
        "# для gnb_predict\n",
        "# точность 0.4939365671641791\n",
        "# полнота 0.4833409402099498"
      ],
      "metadata": {
        "id": "a9uSe4lBQNe-"
      },
      "execution_count": null,
      "outputs": []
    },
    {
      "cell_type": "markdown",
      "source": [
        "МЕТОД ОПОРНЫХ ВЕКТОРОВ "
      ],
      "metadata": {
        "id": "Myj7rvm8uT2W"
      }
    },
    {
      "cell_type": "code",
      "source": [
        "from sklearn import svm\n",
        "from sklearn.metrics import accuracy_score \n",
        "\n",
        "clf = svm.SVC()\n",
        "clf_predict = clf.fit(x_train, y_train).predict(x_test)\n",
        "\n",
        "accuracy_score(clf_predict, y_test)"
      ],
      "metadata": {
        "colab": {
          "base_uri": "https://localhost:8080/"
        },
        "id": "mO7bSDh2WyUf",
        "outputId": "08f7e717-e212-4d03-cfce-2dc8df759eda"
      },
      "execution_count": null,
      "outputs": [
        {
          "output_type": "execute_result",
          "data": {
            "text/plain": [
              "0.8224554997717937"
            ]
          },
          "metadata": {},
          "execution_count": 21
        }
      ]
    },
    {
      "cell_type": "markdown",
      "source": [
        " МЕТОД ГРАДИЕНТНОГО СПУСКА "
      ],
      "metadata": {
        "id": "LczYgncguZkD"
      }
    },
    {
      "cell_type": "code",
      "source": [
        "from sklearn.linear_model import SGDClassifier\n",
        "from sklearn.metrics import accuracy_score \n",
        "\n",
        "clf = SGDClassifier(loss = \"hinge\", penalty = \"l2\", max_iter = 5)\n",
        "clf_predict = clf.fit(x_train, y_train).predict(x_test)\n",
        "\n",
        "accuracy_score(clf_predict, y_test)"
      ],
      "metadata": {
        "colab": {
          "base_uri": "https://localhost:8080/"
        },
        "id": "7mmJ9GJAXXiu",
        "outputId": "61709012-034c-48fc-a1d4-ae5648b10551"
      },
      "execution_count": null,
      "outputs": [
        {
          "output_type": "stream",
          "name": "stderr",
          "text": [
            "/usr/local/lib/python3.7/dist-packages/sklearn/linear_model/_stochastic_gradient.py:700: ConvergenceWarning: Maximum number of iteration reached before convergence. Consider increasing max_iter to improve the fit.\n",
            "  ConvergenceWarning,\n"
          ]
        },
        {
          "output_type": "execute_result",
          "data": {
            "text/plain": [
              "0.5"
            ]
          },
          "metadata": {},
          "execution_count": 22
        }
      ]
    },
    {
      "cell_type": "markdown",
      "source": [
        "[ метод опорных векторов и метод градиентного спуска показывают более низкий результат с уменьшением тестовых данных ]"
      ],
      "metadata": {
        "id": "1nViF363peS-"
      }
    },
    {
      "cell_type": "markdown",
      "source": [
        "проблемы: \n",
        "- в самом маленьком файле 145 строк -> неравномерное распределение данных, что повлияет на работу модели "
      ],
      "metadata": {
        "id": "gMcDx1dxTfZI"
      }
    }
  ]
}